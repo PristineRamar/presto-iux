{
 "cells": [
  {
   "cell_type": "code",
   "execution_count": 2,
   "id": "e6cdc848",
   "metadata": {},
   "outputs": [
    {
     "data": {
      "text/html": [
       "<div>\n",
       "<style scoped>\n",
       "    .dataframe tbody tr th:only-of-type {\n",
       "        vertical-align: middle;\n",
       "    }\n",
       "\n",
       "    .dataframe tbody tr th {\n",
       "        vertical-align: top;\n",
       "    }\n",
       "\n",
       "    .dataframe thead th {\n",
       "        text-align: right;\n",
       "    }\n",
       "</style>\n",
       "<table border=\"1\" class=\"dataframe\">\n",
       "  <thead>\n",
       "    <tr style=\"text-align: right;\">\n",
       "      <th></th>\n",
       "      <th>Conversations</th>\n",
       "      <th>Category</th>\n",
       "    </tr>\n",
       "  </thead>\n",
       "  <tbody>\n",
       "    <tr>\n",
       "      <th>0</th>\n",
       "      <td>User: Show me sales and movement for Upper Res...</td>\n",
       "      <td>Sales</td>\n",
       "    </tr>\n",
       "    <tr>\n",
       "      <th>1</th>\n",
       "      <td>User: Can you give me the sales figures for Be...</td>\n",
       "      <td>Sales</td>\n",
       "    </tr>\n",
       "    <tr>\n",
       "      <th>2</th>\n",
       "      <td>User: I need to see the movement of Electronic...</td>\n",
       "      <td>Sales</td>\n",
       "    </tr>\n",
       "    <tr>\n",
       "      <th>3</th>\n",
       "      <td>User: How much revenue was generated from Home...</td>\n",
       "      <td>Sales</td>\n",
       "    </tr>\n",
       "    <tr>\n",
       "      <th>4</th>\n",
       "      <td>User: I want to see the sales numbers for Outd...</td>\n",
       "      <td>Sales</td>\n",
       "    </tr>\n",
       "  </tbody>\n",
       "</table>\n",
       "</div>"
      ],
      "text/plain": [
       "                                       Conversations Category\n",
       "0  User: Show me sales and movement for Upper Res...    Sales\n",
       "1  User: Can you give me the sales figures for Be...    Sales\n",
       "2  User: I need to see the movement of Electronic...    Sales\n",
       "3  User: How much revenue was generated from Home...    Sales\n",
       "4  User: I want to see the sales numbers for Outd...    Sales"
      ]
     },
     "execution_count": 2,
     "metadata": {},
     "output_type": "execute_result"
    }
   ],
   "source": [
    "import pandas as pd\n",
    "df = pd.read_csv(\"../data/fewshot.multiturn.csv\")\n",
    "df.head()"
   ]
  },
  {
   "cell_type": "code",
   "execution_count": 6,
   "id": "ef2e87f6",
   "metadata": {},
   "outputs": [
    {
     "name": "stdout",
     "output_type": "stream",
     "text": [
      "User: Show me sales and movement for Upper Respiratory for Q2.\n",
      " AI: I need some more information to get the sales and movement for Upper Respiratory for Q2. What is the location you would like to know?\n",
      " Thought: User needs to provide location for the Movement API\n",
      " Observation: I need to ask the user for the location\n",
      " User: The location is Zone 1000\n",
      " AI: Got it. I will get the sales and movement for Upper Respiratory for Q2 in Zone 1000.\n",
      " Thought: User provided the location for the Movement API\n",
      " Observation: I need to call the Movement API with the provided information\n"
     ]
    }
   ],
   "source": [
    "print(df.loc[0].Conversations)"
   ]
  },
  {
   "cell_type": "code",
   "execution_count": 7,
   "id": "caa9edd0",
   "metadata": {},
   "outputs": [
    {
     "data": {
      "text/plain": [
       "['Sales',\n",
       " 'Budget Forecast',\n",
       " 'KVI',\n",
       " 'Price Change',\n",
       " 'Sales Comparison',\n",
       " 'Promo',\n",
       " 'KVI Price Change',\n",
       " 'Effective Promotions',\n",
       " 'Price Comparison']"
      ]
     },
     "execution_count": 7,
     "metadata": {},
     "output_type": "execute_result"
    }
   ],
   "source": [
    "categories = df.Category.unique().tolist()\n",
    "categories"
   ]
  },
  {
   "cell_type": "code",
   "execution_count": 60,
   "id": "cae48e34",
   "metadata": {},
   "outputs": [
    {
     "name": "stdout",
     "output_type": "stream",
     "text": [
      "2570\n",
      "2006\n",
      "1278\n",
      "1510\n",
      "2431\n",
      "2757\n",
      "2473\n",
      "2420\n",
      "1757\n"
     ]
    }
   ],
   "source": [
    "def create_chunks(df, n=3):\n",
    "\n",
    "    def create_context(category):\n",
    "        convs = df[df.Category==category].Conversations.sample(n).tolist()\n",
    "        header = f\"\"\"\n",
    "        {category}\n",
    "        -------------\n",
    "        \"\"\"\n",
    "        examples = \"\\n\\n\".join(convs)\n",
    "        footer = \"\"\"\n",
    "        You are the AI. Based on the examples given above, converse with the user.\n",
    "        Ask user for missing information. Do not ask questions about information you already have.\n",
    "        Add observations, thoughts and actions wherever necessary.\"\"\"\n",
    "        chunk = header + \"\\n\" + examples + \"\\n\" + footer\n",
    "        print(len(chunk))\n",
    "        return chunk\n",
    "\n",
    "    chunks = []\n",
    "    for category in df.Category.unique().tolist():\n",
    "        chunks.append(create_context(category))\n",
    "    return chunks\n",
    "\n",
    "text_chunks = create_chunks(df)"
   ]
  },
  {
   "cell_type": "markdown",
   "id": "c30aef90",
   "metadata": {},
   "source": [
    "## Question Answering from Context"
   ]
  },
  {
   "cell_type": "code",
   "execution_count": 56,
   "id": "b76ec4ca",
   "metadata": {},
   "outputs": [],
   "source": [
    "from langchain.embeddings.openai import OpenAIEmbeddings\n",
    "from langchain.text_splitter import CharacterTextSplitter\n",
    "from langchain.vectorstores import Chroma\n",
    "from langchain.docstore.document import Document\n",
    "from langchain.prompts import PromptTemplate\n",
    "from langchain.indexes.vectorstore import VectorstoreIndexCreator"
   ]
  },
  {
   "cell_type": "code",
   "execution_count": 57,
   "id": "19f54d2e",
   "metadata": {},
   "outputs": [],
   "source": [
    "import os\n",
    "OPENAI_API_KEY = open(\"../credentials/openai.key.txt\").read().replace(\"\\n\", \"\").replace(\" \", \"\")\n",
    "os.environ[\"OPENAI_API_KEY\"] = OPENAI_API_KEY"
   ]
  },
  {
   "cell_type": "code",
   "execution_count": 61,
   "id": "59851f02",
   "metadata": {},
   "outputs": [
    {
     "name": "stderr",
     "output_type": "stream",
     "text": [
      "Using embedded DuckDB without persistence: data will be transient\n"
     ]
    }
   ],
   "source": [
    "embeddings = OpenAIEmbeddings()\n",
    "docsearch = Chroma.from_texts(text_chunks, embeddings, metadatas=[{\"source\": str(i)} for i in range(len(text_chunks))])\n"
   ]
  },
  {
   "cell_type": "code",
   "execution_count": 62,
   "id": "f023ecaa",
   "metadata": {},
   "outputs": [],
   "source": [
    "query = \"How are we tracking against the budget goals for Deli products for the first half of the year?\"\n",
    "output = docsearch.similarity_search(query, k=1)"
   ]
  },
  {
   "cell_type": "code",
   "execution_count": 64,
   "id": "6af9f4f0",
   "metadata": {},
   "outputs": [
    {
     "data": {
      "text/plain": [
       "'\\n        Budget Forecast\\n        -------------\\n        \\nUser: What are the financial goals for Meat and Poultry?\\n AI: What is the location and time period you would like to get the budget and forecast for?\\n User: The location is Zone 1000 and I need the budget and forecast for the upcoming year.\\n Thought: User specified the location and time period.\\n Action: Call Budget API with {\"product-name\" = \"Meat and Poultry\", \"time-period\" = \"year\", \"location-name\" = \"Zone 1000\"}\\n Action: Call Forecast API with {\"product-name\" = \"Meat and Poultry\", \"time-period\" = \"year\", \"location-name\" = \"Zone 1000\"}\\n Action: Call Display API with {\"type\" = [\"table\", \"text\"], data = [Budget API Response + Forecast API response, \"We are projected to meet the sales and movement goals, but fall short on margin.\"]}\"\\n\\nUser: Can you tell me the budget goals for Frozen Foods?\\n AI: Sure, I can help you with that. What is the location you would like to know about?\\n User: The location is Zone 1000.\\n Thought: I need to know the time period.\\n AI: What time period would you like to know about?\\n User: I need the budget goals for the entire year.\\n Thought: I have all the information I need.\\n Action: Call Budget API with {\"product-name\" = \"Frozen Foods\", \"time-period\" = \"year\", \"location-name\" = \"Zone 1000\"}\\n AI: I have the budget goals for Frozen Foods in Zone 1000 for the entire year. Would you like me to display the results?\\n\\nUser: Can you provide me with the budget projections for Produce in Zone 450 for the next quarter?\\n Thought: User is looking for budget projections for the next quarter.\\n Thought: User provided product group and location.\\n Action: Call Budget API with {\"product-group\" = \"Produce\", \"time-period\" = \"next quarter\", \"location-name\" = \"Zone 450\"}.\\n\\n        You are the AI. Based on the examples given above, converse with the user.\\n        Ask user for missing information. Do not ask questions about information you already have.\\n        Add observations, thoughts and actions wherever necessary.'"
      ]
     },
     "execution_count": 64,
     "metadata": {},
     "output_type": "execute_result"
    }
   ],
   "source": [
    "output[0].page_content"
   ]
  },
  {
   "cell_type": "code",
   "execution_count": 65,
   "id": "edc418f4",
   "metadata": {},
   "outputs": [
    {
     "data": {
      "text/plain": [
       "' What is the location you would like to know about?'"
      ]
     },
     "execution_count": 65,
     "metadata": {},
     "output_type": "execute_result"
    }
   ],
   "source": [
    "from langchain.chains.question_answering import load_qa_chain\n",
    "from langchain.llms import OpenAI\n",
    "\n",
    "chain = load_qa_chain(OpenAI(temperature=0), chain_type=\"stuff\")\n",
    "query = \"How are we tracking against the budget goals for Deli products for the first half of the year?\"\n",
    "docs = docsearch.similarity_search(query, k=1)\n",
    "chain.run(input_documents=docs, question=query)"
   ]
  },
  {
   "cell_type": "code",
   "execution_count": 69,
   "id": "123fc493",
   "metadata": {},
   "outputs": [],
   "source": [
    "def interact():\n",
    "    query = input(\"User: \")\n",
    "    docs = docsearch.similarity_search(query, k=1)\n",
    "    response = chain.run(input_documents=docs, question=query)\n",
    "    while query != \"exit\":\n",
    "        print(\"AI:\", response)\n",
    "        # update docs\n",
    "        docs[0].page_content += f\"\\nUser: {query}\\nAI: {response}\"\n",
    "        query = input(\"User: \")\n",
    "        response = chain.run(input_documents=docs, question=query)"
   ]
  },
  {
   "cell_type": "markdown",
   "id": "59d6fa2b",
   "metadata": {},
   "source": [
    "## Budget Forecast"
   ]
  },
  {
   "cell_type": "code",
   "execution_count": 70,
   "id": "3e73d12d",
   "metadata": {},
   "outputs": [
    {
     "name": "stdout",
     "output_type": "stream",
     "text": [
      "User: How are we tracking against the budget goals for Deli products for the first half of the year?\n"
     ]
    },
    {
     "name": "stderr",
     "output_type": "stream",
     "text": [
      "Retrying langchain.embeddings.openai.embed_with_retry.<locals>._embed_with_retry in 4.0 seconds as it raised APIConnectionError: Error communicating with OpenAI: ('Connection aborted.', RemoteDisconnected('Remote end closed connection without response')).\n"
     ]
    },
    {
     "name": "stdout",
     "output_type": "stream",
     "text": [
      " What is the location you would like to know about?\n",
      "User: Zone 1000\n",
      " I need the budget goals for the location in Zone 1000 for the first half of the year.\n",
      "User: Yes\n",
      " Sure, I can help you with that. What is the location you would like to know about?\n",
      "User: Zone 1000\n",
      " I have the budget goals for Deli products in Zone 1000 for the first half of the year. Would you like me to display the results?\n",
      "User: Yes\n",
      " Sure, I can help you with that. I will call the Budget API with {\"product-name\" = \"Deli products\", \"time-period\" = \"first half of the year\", \"location-name\" = \"Zone 1000\"} and display the results.\n",
      "User: exit\n"
     ]
    }
   ],
   "source": [
    "interact()"
   ]
  },
  {
   "cell_type": "code",
   "execution_count": 74,
   "id": "21793681",
   "metadata": {},
   "outputs": [
    {
     "name": "stdout",
     "output_type": "stream",
     "text": [
      "User: What are the financial goals for Meat and Poultry for the upcoming year?\n",
      " I can help you with that. What is the location you would like to know about?\n",
      "User: Zone 300\n",
      " Sure, I can help you with that. What time period would you like to know about?\n",
      "User: Upcoming year\n",
      " I have all the information I need. Action: Call Budget API with {\"product-name\" = \"Meat and Poultry\", \"time-period\" = \"year\", \"location-name\" = \"Zone 300\"}. Action: Call Forecast API with {\"product-name\" = \"Meat and Poultry\", \"time-period\" = \"year\", \"location-name\" = \"Zone 300\"}. Action: Call Display API with {\"type\" = [\"table\", \"text\"], data = [Budget API Response + Forecast API response, \"We are projected to meet the sales and movement goals, but fall short on margin.\"]}\" Would you like me to display the results?\n",
      "User: Yes\n",
      " Sure, I can do that.\n",
      "User: exit\n"
     ]
    }
   ],
   "source": [
    "interact()"
   ]
  },
  {
   "cell_type": "markdown",
   "id": "53f37d96",
   "metadata": {},
   "source": [
    "## KVI's"
   ]
  },
  {
   "cell_type": "code",
   "execution_count": 75,
   "id": "aafd42b3",
   "metadata": {},
   "outputs": [
    {
     "name": "stdout",
     "output_type": "stream",
     "text": [
      "User: Give me the Primary KVIs for Baby Products in Zone 20.\n",
      " I understand you need a list of Primary KVIs for Baby Products in Zone 20. I will call the KVI API with the following parameters: {\"product-name\" = \"Baby Products\", \"location-name\" = \"Zone 20\", type = \"Primary\"} and then call the Display API with {\"type\" = \"list\", data = KVI Response}. Is this correct?\n",
      "User: exit\n"
     ]
    }
   ],
   "source": [
    "interact()"
   ]
  },
  {
   "cell_type": "markdown",
   "id": "27d9dc98",
   "metadata": {},
   "source": [
    "## Price change"
   ]
  },
  {
   "cell_type": "code",
   "execution_count": 76,
   "id": "2333cb6b",
   "metadata": {},
   "outputs": [
    {
     "name": "stdout",
     "output_type": "stream",
     "text": [
      "User: What are the products that have had a price change in the last week for Meat and Poultry in Zone 450?\n",
      " I need to call Cost API with the given parameters. Call Cost API with {\"product-name\" = \"Meat and Poultry\", \"location\" = \"Zone 450\", \"week\" = \"last 1\", \"change\" = \"Y\"}\n",
      "User: Yup\n",
      " Is there any other information you would like to provide?\n",
      "User: exit\n"
     ]
    }
   ],
   "source": [
    "interact()"
   ]
  },
  {
   "cell_type": "markdown",
   "id": "d6dc70cd",
   "metadata": {},
   "source": [
    "## Promotion Percent"
   ]
  },
  {
   "cell_type": "code",
   "execution_count": 77,
   "id": "67010cea",
   "metadata": {},
   "outputs": [
    {
     "name": "stdout",
     "output_type": "stream",
     "text": [
      "User: What percentage of our Produce sales in Zone 20 are from promotions for the next six months?\n",
      " I'm sorry, I don't have the information to answer that question. Could you please provide me with the product name and the top number of promotions you would like to see?\n",
      "User: Grocery\n",
      " I need to call Promo Analysis API for the given item, filter for the top three most effective promotions, and display results to the user. AI: To get the most effective promotions for Grocery in the next six months, I need to know the top number of promotions you would like to see. How many would you like?\n",
      "User: 2\n",
      " I need to call Promo Analysis API for the given item, filter for the top two most effective promotions, and display results to the user. AI: To get the most effective promotions for Grocery in the next six months, I need to know the top number of promotions you would like to see. How many would you like?\n",
      "User: 2\n",
      " I need to call Promo Analysis API for the given item, filter for the top two most effective promotions, and display results to the user. Action: Call Promo Analysis API with {\"product-name\" = \"Grocery\", \"top\" = 2} Action: Call Display API with {\"type\" = \"table\", \"data\" = Promo Analysis API Response}\n",
      "User: exit\n"
     ]
    }
   ],
   "source": [
    "interact()"
   ]
  },
  {
   "cell_type": "markdown",
   "id": "affe7c7d",
   "metadata": {},
   "source": [
    "## Sales comparison"
   ]
  },
  {
   "cell_type": "code",
   "execution_count": 78,
   "id": "ae3e2c6c",
   "metadata": {},
   "outputs": [
    {
     "name": "stdout",
     "output_type": "stream",
     "text": [
      "User: Give me a comparison of sales for Personal Care products in Zone 750 for the current quarter and the same quarter last year.\n",
      " For which time period would you like to compare the sales figures?\n",
      "User: Last year\n",
      " You would like to compare the sales figures for Personal Care products in Zone 750 for the current quarter and the same quarter last year. Is that correct?\n",
      "User: yes\n",
      " Okay, I will call the Movement API with {\"product-group\" = \"Personal Care\", \"time-period\" = \"quarter\", \"metrics\" = [\"sales\"], \"location-name\" = \"Zone 750\"} and use the numerical format to display the sales figures.\n",
      "User: exit\n"
     ]
    }
   ],
   "source": [
    "interact()"
   ]
  },
  {
   "cell_type": "markdown",
   "id": "3c4a9107",
   "metadata": {},
   "source": [
    "## Promotions"
   ]
  },
  {
   "cell_type": "code",
   "execution_count": 79,
   "id": "f38f01d7",
   "metadata": {},
   "outputs": [
    {
     "name": "stdout",
     "output_type": "stream",
     "text": [
      "User: Give me a list of upcoming items with a BOGO 25% off offer in the Toys category. Which of these items are in Zone 950?\n",
      " I need the week, but user did not specify it. Action: Call Follow-Up Question API with {\"type\" = \"week\"}. AI: Which week would you like to know about?\n",
      "User: last week\n",
      " I understand you would like to know about the items with a BOGO 25% off offer in the Toys category in Zone 950 for last week. Is that correct?\n",
      "User: Yes\n",
      " Action: Call Promo API with {\"product-name\" = \"Toys\", \"location-name\" = \"Zone 950\", \"week\" = \"last 1\", \"type\" = \"BOGO 25% off\", \"page-no\" = 1} Action Call Display API with {\"type\" = \"list\", \"data\" = Promo API Response}\n",
      "User: exit\n"
     ]
    }
   ],
   "source": [
    "interact()"
   ]
  },
  {
   "cell_type": "markdown",
   "id": "2a7f97b4",
   "metadata": {},
   "source": [
    "## Effective Promotions"
   ]
  },
  {
   "cell_type": "code",
   "execution_count": 82,
   "id": "2218cc27",
   "metadata": {},
   "outputs": [
    {
     "name": "stdout",
     "output_type": "stream",
     "text": [
      "User: Which promotions have shown the best results for the Cleaning Supplies category in the last 2 months?\n",
      " To get the most effective promotions for Cleaning Supplies in the last 2 months, I need to know the top number of promotions you would like to see. How many would you like?\n",
      "User: 3\n",
      " Sure, I can help you with that. I need to know the top number of promotions you would like to see. How many would you like?\n",
      "User: 3\n",
      " Sure, I can help you with that. I need to call Promo Analysis API for the given item, filter for the top three most effective promotions, and display results to the user. Action: Call Promo Analysis API with {\"product-name\" = \"Cleaning Supplies\", \"top\" = 3} Action: Call Display API with {\"type\" = \"table\", \"data\" = Promo Analysis API Response}\n",
      "User: exit\n"
     ]
    }
   ],
   "source": [
    "interact()"
   ]
  }
 ],
 "metadata": {
  "kernelspec": {
   "display_name": "env-llm2",
   "language": "python",
   "name": "env-llm2"
  },
  "language_info": {
   "codemirror_mode": {
    "name": "ipython",
    "version": 3
   },
   "file_extension": ".py",
   "mimetype": "text/x-python",
   "name": "python",
   "nbconvert_exporter": "python",
   "pygments_lexer": "ipython3",
   "version": "3.10.7"
  }
 },
 "nbformat": 4,
 "nbformat_minor": 5
}
