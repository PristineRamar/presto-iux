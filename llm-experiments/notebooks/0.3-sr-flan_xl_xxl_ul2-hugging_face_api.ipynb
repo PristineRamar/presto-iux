{
 "cells": [
  {
   "cell_type": "markdown",
   "metadata": {
    "id": "5zsGtg0f9W84"
   },
   "source": [
    "## FLAN UL2 via HuggingFace API\n",
    "\n",
    "<img src=\"https://www.dropbox.com/s/l6487m67lra2spf/Screenshot%202023-03-04%20at%2011.07.05%20AM.png?raw=1\" alt=\"example image\" width=\"600\">\n",
    "\n",
    "<img src=\"https://www.dropbox.com/s/6mrt9c2cgvt0mui/Screenshot%202023-03-04%20at%208.28.45%20AM.png?raw=1\" alt=\"example image\" width=\"600\">\n",
    "\n",
    "\n",
    "\n",
    "#### References\n",
    "\n",
    "[Scaling Instruction-Finetuned Language Models](https://arxiv.org/abs/2210.11416) aka Flan2  \n",
    "[UL2: Unifying Language Learning Paradigms](https://arxiv.org/abs/2205.05131)  \n",
    "[Yi Tay's Blog about the release](https://www.yitay.net/blog/flan-ul2-20b)\n",
    "\n",
    "\n",
    "\n",
    "\n"
   ]
  },
  {
   "cell_type": "markdown",
   "metadata": {
    "id": "AuoMUKn2IXTn"
   },
   "source": [
    "## Install Requirements"
   ]
  },
  {
   "cell_type": "code",
   "execution_count": null,
   "metadata": {
    "colab": {
     "base_uri": "https://localhost:8080/"
    },
    "id": "AyIyjx9e9FTM",
    "outputId": "6e4d9bef-f680-431b-a362-37b14e7a164e"
   },
   "outputs": [
    {
     "name": "stdout",
     "output_type": "stream",
     "text": [
      "\u001b[2K     \u001b[90m━━━━━━━━━━━━━━━━━━━━━━━━━━━━━━━━━━━━━━━━\u001b[0m \u001b[32m6.3/6.3 MB\u001b[0m \u001b[31m42.0 MB/s\u001b[0m eta \u001b[36m0:00:00\u001b[0m\n",
      "\u001b[2K     \u001b[90m━━━━━━━━━━━━━━━━━━━━━━━━━━━━━━━━━━━━━━\u001b[0m \u001b[32m199.7/199.7 KB\u001b[0m \u001b[31m12.1 MB/s\u001b[0m eta \u001b[36m0:00:00\u001b[0m\n",
      "\u001b[2K     \u001b[90m━━━━━━━━━━━━━━━━━━━━━━━━━━━━━━━━━━━━━━━━\u001b[0m \u001b[32m76.3/76.3 MB\u001b[0m \u001b[31m20.5 MB/s\u001b[0m eta \u001b[36m0:00:00\u001b[0m\n",
      "\u001b[2K     \u001b[90m━━━━━━━━━━━━━━━━━━━━━━━━━━━━━━━━━━━━━━━━\u001b[0m \u001b[32m7.6/7.6 MB\u001b[0m \u001b[31m87.5 MB/s\u001b[0m eta \u001b[36m0:00:00\u001b[0m\n",
      "\u001b[2K     \u001b[90m━━━━━━━━━━━━━━━━━━━━━━━━━━━━━━━━━━━━━━━\u001b[0m \u001b[32m190.3/190.3 KB\u001b[0m \u001b[31m2.3 MB/s\u001b[0m eta \u001b[36m0:00:00\u001b[0m\n",
      "\u001b[?25h"
     ]
    }
   ],
   "source": [
    "!pip -q install huggingface_hub "
   ]
  },
  {
   "cell_type": "markdown",
   "metadata": {
    "id": "f3KTxBrEF1HS"
   },
   "source": [
    "# Using the HuggingFace Inference API for UL2"
   ]
  },
  {
   "cell_type": "code",
   "execution_count": null,
   "metadata": {
    "id": "0x2qK_3fRymP"
   },
   "outputs": [],
   "source": [
    "HF_API_TOKEN = ''"
   ]
  },
  {
   "cell_type": "code",
   "execution_count": null,
   "metadata": {
    "id": "D2nSQIltIDZN"
   },
   "outputs": [],
   "source": [
    "from huggingface_hub.inference_api import InferenceApi\n",
    "\n",
    "# Flan-UL2 20B\n",
    "inference_flan_ul2 = InferenceApi(repo_id=\"google/flan-ul2\", token=HF_API_TOKEN)\n",
    "\n",
    "# Flan-T5-XXL 11B\n",
    "inference_flan_t5_xxl = InferenceApi(repo_id=\"google/flan-t5-xxl\", token=HF_API_TOKEN)\n",
    "\n",
    "# Flan-T5-XXL 11B\n",
    "inference_flan_t5_large = InferenceApi(repo_id=\"google/flan-t5-large\",token=HF_API_TOKEN)"
   ]
  },
  {
   "cell_type": "code",
   "execution_count": null,
   "metadata": {
    "colab": {
     "base_uri": "https://localhost:8080/"
    },
    "id": "QrhRBASmeGOk",
    "outputId": "0173d596-35d7-4c11-f959-ec6e864c0afd"
   },
   "outputs": [
    {
     "data": {
      "text/plain": [
       "10"
      ]
     },
     "execution_count": 42,
     "metadata": {},
     "output_type": "execute_result"
    }
   ],
   "source": [
    "params = {'max_length': 10}"
   ]
  },
  {
   "cell_type": "code",
   "execution_count": null,
   "metadata": {
    "colab": {
     "base_uri": "https://localhost:8080/"
    },
    "id": "YFOdAxVjR_yt",
    "outputId": "a6186dd6-0d24-4185-cb25-cd11f97db54a"
   },
   "outputs": [
    {
     "data": {
      "text/plain": [
       "[{'generated_text': 'George Washington died in 1799. Geoffrey Hinton was born in 1959. So the final'}]"
      ]
     },
     "execution_count": 36,
     "metadata": {},
     "output_type": "execute_result"
    }
   ],
   "source": [
    "# Flan UL2\n",
    "input_string = '''\n",
    "Q: Can Geoffrey Hinton have a conversation with George Washington? Give the rationale before answering.\n",
    "'''\n",
    "\n",
    "inference_flan_ul2(inputs=input_string\n",
    "          )"
   ]
  },
  {
   "cell_type": "code",
   "execution_count": null,
   "metadata": {
    "colab": {
     "base_uri": "https://localhost:8080/"
    },
    "id": "SkR83y3Rgpin",
    "outputId": "cb9baee4-5603-4a53-ae21-634d444f616c"
   },
   "outputs": [
    {
     "data": {
      "text/plain": [
       "[{'generated_text': 'George Washington died in 1799. Geoffrey Hinton was born in 1939. The answer'}]"
      ]
     },
     "execution_count": 39,
     "metadata": {},
     "output_type": "execute_result"
    }
   ],
   "source": [
    "# Flan T5-xxl\n",
    "inference_flan_t5_xxl(inputs=input_string)"
   ]
  },
  {
   "cell_type": "code",
   "execution_count": null,
   "metadata": {
    "colab": {
     "base_uri": "https://localhost:8080/"
    },
    "id": "fwEYwOV3rmiG",
    "outputId": "b47bd354-60ff-411e-980d-8d65db529c2d"
   },
   "outputs": [
    {
     "data": {
      "text/plain": [
       "[{'generated_text': 'George Washington died in 1789. Geoffrey Hinton was born in 1818. The'}]"
      ]
     },
     "execution_count": 38,
     "metadata": {},
     "output_type": "execute_result"
    }
   ],
   "source": [
    "# Flan T5-large\n",
    "inference_flan_t5_large(inputs=input_string)"
   ]
  },
  {
   "cell_type": "code",
   "execution_count": null,
   "metadata": {
    "id": "LgI2xwqagu3J"
   },
   "outputs": [],
   "source": [
    "# Flan T5-large\n",
    "input_string = '''<article about US open Nadal vs Medvedev> \\n\n",
    "Write me a speech for Rafael Nadal to give for his US Open victory:'''\n",
    "\n",
    "inference_flan_t5_large(inputs=input_string)"
   ]
  },
  {
   "cell_type": "code",
   "execution_count": null,
   "metadata": {
    "colab": {
     "base_uri": "https://localhost:8080/"
    },
    "id": "5PSqrKKpqZG6",
    "outputId": "c09bfe4d-5fb8-460e-b96a-fcb6c5f6ea24"
   },
   "outputs": [
    {
     "data": {
      "text/plain": [
       "[{'generated_text': \"Rafael Nadal: I'm very happy to win the US Open for the second time in\"}]"
      ]
     },
     "execution_count": 42,
     "metadata": {},
     "output_type": "execute_result"
    }
   ],
   "source": [
    "# Flan T5-xxl\n",
    "input_string = '''<article about US open Nadal vs Medvedev> \\n\n",
    "Write me a speech for Rafael Nadal to give for his US Open victory:'''\n",
    "\n",
    "inference_flan_t5_xxl(inputs=input_string)"
   ]
  },
  {
   "cell_type": "code",
   "execution_count": null,
   "metadata": {
    "colab": {
     "base_uri": "https://localhost:8080/"
    },
    "id": "8-X-8jQAV3pA",
    "outputId": "590c20c6-0baa-4da7-e22a-1e1e40c6ca81"
   },
   "outputs": [
    {
     "data": {
      "text/plain": [
       "[{'generated_text': 'Rafael Nadal has won the US Open, and he has won the French Open,'}]"
      ]
     },
     "execution_count": 43,
     "metadata": {},
     "output_type": "execute_result"
    }
   ],
   "source": [
    "# Flan T5-large\n",
    "inference_flan_t5_large(inputs=input_string)"
   ]
  },
  {
   "cell_type": "code",
   "execution_count": null,
   "metadata": {
    "colab": {
     "base_uri": "https://localhost:8080/"
    },
    "id": "qnGoZZ4uTiyn",
    "outputId": "cede825d-0345-4580-a8bd-8cdfbf91548c"
   },
   "outputs": [
    {
     "data": {
      "text/plain": [
       "[{'generated_text': 'Haiku is a Japanese poetry that has a strict 17 syllable rule.'}]"
      ]
     },
     "execution_count": 43,
     "metadata": {},
     "output_type": "execute_result"
    }
   ],
   "source": [
    "inference_flan_ul2(inputs=\"Answer the following yes/no question by reasoning step-by-step. \\n \\\n",
    "Can you write a whole Haiku in a single tweet?\")"
   ]
  },
  {
   "cell_type": "code",
   "execution_count": null,
   "metadata": {
    "colab": {
     "base_uri": "https://localhost:8080/"
    },
    "id": "TfVeiJSX2NzI",
    "outputId": "82977047-8819-4d57-839a-a560d32f61ef"
   },
   "outputs": [
    {
     "data": {
      "text/plain": [
       "[{'generated_text': 'Marcus Aurelius lived from 121 to 180 AD. George Washington lived from 1732 to 17'}]"
      ]
     },
     "execution_count": 68,
     "metadata": {},
     "output_type": "execute_result"
    }
   ],
   "source": [
    "# Flan UL2\n",
    "input_string = '''\n",
    "Q: Could Marcus Aurelius have had dinner with George Washington? Give the rationale before answering.\n",
    "'''\n",
    "\n",
    "inference_flan_ul2(inputs=input_string\n",
    "          )"
   ]
  }
 ],
 "metadata": {
  "accelerator": "GPU",
  "colab": {
   "provenance": []
  },
  "gpuClass": "premium",
  "kernelspec": {
   "display_name": "Python 3 (ipykernel)",
   "language": "python",
   "name": "python3"
  },
  "language_info": {
   "codemirror_mode": {
    "name": "ipython",
    "version": 3
   },
   "file_extension": ".py",
   "mimetype": "text/x-python",
   "name": "python",
   "nbconvert_exporter": "python",
   "pygments_lexer": "ipython3",
   "version": "3.10.6"
  }
 },
 "nbformat": 4,
 "nbformat_minor": 1
}
