{
 "cells": [
  {
   "cell_type": "code",
   "execution_count": null,
   "id": "1ac93d88",
   "metadata": {},
   "outputs": [],
   "source": [
    "cd .."
   ]
  },
  {
   "cell_type": "code",
   "execution_count": 51,
   "id": "662d1edc",
   "metadata": {},
   "outputs": [],
   "source": [
    "movement_api_description = {\n",
    "    \"name\": \"Movement API\",\n",
    "#     \"arguments\": \"Product Name, Product Id, Product Level, Item List, Location Name, Location Id, Location Level, Start Date, End Date, Calendar Year, Quarter No, Period No, Week No, Calendar Type, Product Aggregate Level, Calendar Aggregate Level, Location Aggregate Level, Metrics\",\n",
    "    \"arguments\" : \"product_name/product_id/product_level, location_name/location_id/location_level, quarter_no/[start_date, end_date]/year/week_no\",\n",
    "    \"description\": \"Returns movement, sales, and margin for the product, timeframe, and location specificied, aggregated to the desired level.\",\n",
    "    \"usage\": \"\\n\".join([\"1. movement, sales, margin = movement_api(product_name='Home Decor', location_id='Zone 101', quarter_no='Q3')\", \n",
    "                        \"2. movement, sales, margin = movement_api(product_id='12769', location_name='Wisconsin', year='last year')\"\n",
    "                       ]),\n",
    "    \"returns\" : \"movement, sales, margin\"\n",
    "}"
   ]
  },
  {
   "cell_type": "code",
   "execution_count": 52,
   "id": "a86c8cfc",
   "metadata": {},
   "outputs": [
    {
     "name": "stdout",
     "output_type": "stream",
     "text": [
      "\n",
      "Movement API\n",
      "============\n",
      "Returns movement, sales, and margin for the product, timeframe, and location specificied, aggregated to the desired level.\n",
      "\n",
      "Arguments:\n",
      "product_name/product_id/product_level, location_name/location_id/location_level, quarter_no/[start_date, end_date]/year/week_no\n",
      "\n",
      "Returns:\n",
      "movement, sales, margin\n",
      "\n",
      "Usage:\n",
      "1. movement, sales, margin = movement_api(product_name='Home Decor', location_id='Zone 101', quarter_no='Q3')\n",
      "2. movement, sales, margin = movement_api(product_id='12769', location_name='Wisconsin', year='last year')\n",
      "\n"
     ]
    }
   ],
   "source": [
    "def flatten_api_description(api_desc):\n",
    "    return f\"\"\"\n",
    "{api_desc[\"name\"]}\n",
    "============\n",
    "{api_desc[\"description\"]}\n",
    "\n",
    "Arguments:\n",
    "{api_desc[\"arguments\"]}\n",
    "\n",
    "Returns:\n",
    "{api_desc[\"returns\"]}\n",
    "\n",
    "Usage:\n",
    "{api_desc[\"usage\"]}\n",
    "\"\"\"\n",
    "\n",
    "print(flatten_api_description(movement_api_description))"
   ]
  },
  {
   "cell_type": "code",
   "execution_count": 10,
   "id": "7a0c178a",
   "metadata": {},
   "outputs": [],
   "source": [
    "from openaiutils import make_llm\n",
    "\n",
    "llm = make_llm()"
   ]
  },
  {
   "cell_type": "markdown",
   "id": "8578135f",
   "metadata": {},
   "source": [
    "## Invoke movement API"
   ]
  },
  {
   "cell_type": "code",
   "execution_count": 53,
   "id": "543e5555",
   "metadata": {},
   "outputs": [
    {
     "name": "stdout",
     "output_type": "stream",
     "text": [
      "\n",
      "Movement API\n",
      "============\n",
      "Returns movement, sales, and margin for the product, timeframe, and location specificied, aggregated to the desired level.\n",
      "\n",
      "Arguments:\n",
      "product_name/product_id/product_level, location_name/location_id/location_level, quarter_no/[start_date, end_date]/year/week_no\n",
      "\n",
      "Returns:\n",
      "movement, sales, margin\n",
      "\n",
      "Usage:\n",
      "1. movement, sales, margin = movement_api(product_name='Home Decor', location_id='Zone 101', quarter_no='Q3')\n",
      "2. movement, sales, margin = movement_api(product_id='12769', location_name='Wisconsin', year='last year')\n",
      "\n",
      "\n",
      "You are an AI that will answer the user's query by returning python code that uses the api mentioned above. If one or more arguments are missing do not respond with python code. Instead ask the user for missing arguments.\n",
      "\n",
      "User: How much revenue was generated from Home Decor in Zone 750?\n"
     ]
    }
   ],
   "source": [
    "context = flatten_api_description(movement_api_description)\n",
    "instructions = \" \".join(\n",
    "    [\"You are an AI that will answer the user's query by returning python code that uses the api mentioned above.\",\n",
    "     \"If one or more arguments are missing do not respond with python code. Instead ask the user for missing arguments.\"\n",
    "    ])\n",
    "query = \"How much revenue was generated from Home Decor in Zone 750?\"\n",
    "\n",
    "text = f\"{context}\\n\\n{instructions}\\n\\nUser: {query}\"\n",
    "print(text)"
   ]
  },
  {
   "cell_type": "code",
   "execution_count": 56,
   "id": "c15e9aa3",
   "metadata": {},
   "outputs": [],
   "source": [
    "def make_interaction_callable(api_desc):\n",
    "\n",
    "    api_desc = flatten_api_description(api_desc)\n",
    "    instructions = \" \".join(\n",
    "        [\"You are an AI that will answer the user's query by returning python code that uses the api mentioned above.\",\n",
    "         \"If one or more arguments are missing do not respond with python code. Instead ask the user for missing arguments.\"\n",
    "        ])\n",
    "\n",
    "    context = f\"{api_desc}\\n\\n{instructions}\"\n",
    "\n",
    "    def interact():\n",
    "        query = input(\"User: \")\n",
    "        text = f\"{context}\\n\\nUser: {query}\"\n",
    "        response = llm(text)\n",
    "        response = response.strip().replace(\"\\n\", \" \")\n",
    "        while query != \"exit\":\n",
    "            print(\"AI:\", response)\n",
    "            # update prompt\n",
    "            text += f\"\\nAI: {response}\"\n",
    "            query = input(\"User: \")\n",
    "            text += f\"\\nUser: {query}\"\n",
    "            response = llm(text)\n",
    "            response = response.strip().replace(\"\\n\", \" \")\n",
    "            \n",
    "    return interact"
   ]
  },
  {
   "cell_type": "markdown",
   "id": "d6504911",
   "metadata": {},
   "source": [
    "## Movement API"
   ]
  },
  {
   "cell_type": "code",
   "execution_count": 58,
   "id": "a7dc24c5",
   "metadata": {},
   "outputs": [
    {
     "name": "stdout",
     "output_type": "stream",
     "text": [
      "User: Can you give me the sales figures for Beauty products?\n",
      "AI: AI: Sure, I can help you with that. What is the location and timeframe you would like to get the sales figures for?\n",
      "User: Location is Zone 300. Time period is last year\n",
      "AI: . AI: Got it. Here is the python code that will return the sales figures for Beauty products in Zone 300 for last year:  sales = movement_api(product_name='Beauty', location_id='Zone 300', year='last year')\n",
      "User: exit\n"
     ]
    }
   ],
   "source": [
    "ai = make_interaction_callable(movement_api_description)\n",
    "ai()"
   ]
  },
  {
   "cell_type": "code",
   "execution_count": 59,
   "id": "79ae5475",
   "metadata": {},
   "outputs": [
    {
     "name": "stdout",
     "output_type": "stream",
     "text": [
      "User: I need to see the movement of Electronics in Zone 250.\n",
      "AI: AI: Please provide the timeframe for which you would like to see the movement of Electronics in Zone 250.\n",
      "User: last 6 months\n",
      "AI: . AI: movement, sales, margin = movement_api(product_name='Electronics', location_id='Zone 250', start_date='6 months ago', end_date='today')\n",
      "User: exit\n"
     ]
    }
   ],
   "source": [
    "ai()"
   ]
  },
  {
   "cell_type": "code",
   "execution_count": 60,
   "id": "deed4481",
   "metadata": {},
   "outputs": [
    {
     "name": "stdout",
     "output_type": "stream",
     "text": [
      "User: How much revenue was generated from Home Decor in Zone 750?\n",
      "AI: AI: To answer your query, I need to know the timeframe you are interested in. Please provide the quarter number, year, or start and end dates.\n",
      "User: Q1\n",
      "AI: of last year AI: movement, sales, margin = movement_api(product_name='Home Decor', location_id='Zone 750', quarter_no='Q1', year='last year')\n",
      "User: exit\n"
     ]
    }
   ],
   "source": [
    "ai()"
   ]
  },
  {
   "cell_type": "code",
   "execution_count": 61,
   "id": "64676d16",
   "metadata": {},
   "outputs": [
    {
     "name": "stdout",
     "output_type": "stream",
     "text": [
      "User: Please give me the sales performance of Pet Supplies for Q2 and Q3 of last year.\n",
      "AI: AI: movement, sales, margin = movement_api(product_name='Pet Supplies', quarter_no=['Q2', 'Q3'], year='last year')\n",
      "User: exit\n"
     ]
    }
   ],
   "source": [
    "ai()"
   ]
  }
 ],
 "metadata": {
  "kernelspec": {
   "display_name": "env-llm",
   "language": "python",
   "name": "env-llm"
  },
  "language_info": {
   "codemirror_mode": {
    "name": "ipython",
    "version": 3
   },
   "file_extension": ".py",
   "mimetype": "text/x-python",
   "name": "python",
   "nbconvert_exporter": "python",
   "pygments_lexer": "ipython3",
   "version": "3.10.6"
  }
 },
 "nbformat": 4,
 "nbformat_minor": 5
}
