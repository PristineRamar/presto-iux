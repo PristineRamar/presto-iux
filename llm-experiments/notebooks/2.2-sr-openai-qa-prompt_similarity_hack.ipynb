{
 "cells": [
  {
   "cell_type": "markdown",
   "id": "99283fc1",
   "metadata": {},
   "source": [
    "# Prompt Similarity Search\n"
   ]
  },
  {
   "cell_type": "markdown",
   "id": "db00db7a",
   "metadata": {},
   "source": [
    "Setup document source"
   ]
  },
  {
   "cell_type": "code",
   "execution_count": 1,
   "id": "9ce4fe9b",
   "metadata": {},
   "outputs": [
    {
     "data": {
      "text/html": [
       "<div>\n",
       "<style scoped>\n",
       "    .dataframe tbody tr th:only-of-type {\n",
       "        vertical-align: middle;\n",
       "    }\n",
       "\n",
       "    .dataframe tbody tr th {\n",
       "        vertical-align: top;\n",
       "    }\n",
       "\n",
       "    .dataframe thead th {\n",
       "        text-align: right;\n",
       "    }\n",
       "</style>\n",
       "<table border=\"1\" class=\"dataframe\">\n",
       "  <thead>\n",
       "    <tr style=\"text-align: right;\">\n",
       "      <th></th>\n",
       "      <th>Query</th>\n",
       "      <th>Response</th>\n",
       "      <th>Category</th>\n",
       "    </tr>\n",
       "  </thead>\n",
       "  <tbody>\n",
       "    <tr>\n",
       "      <th>0</th>\n",
       "      <td>What were the sales numbers for Men's Clothing...</td>\n",
       "      <td>Call Movement API with {\"product-name\" = \"Men'...</td>\n",
       "      <td>Movement/Sales</td>\n",
       "    </tr>\n",
       "    <tr>\n",
       "      <th>1</th>\n",
       "      <td>Can you give me the sales figures for Beauty p...</td>\n",
       "      <td>Call Movement API with {\"product-name\" = \"Beau...</td>\n",
       "      <td>Movement/Sales</td>\n",
       "    </tr>\n",
       "    <tr>\n",
       "      <th>2</th>\n",
       "      <td>I need to see the movement of Electronics in Z...</td>\n",
       "      <td>Call Movement API with {\"product-name\" = \"Elec...</td>\n",
       "      <td>Movement/Sales</td>\n",
       "    </tr>\n",
       "    <tr>\n",
       "      <th>3</th>\n",
       "      <td>How much revenue was generated from Home Decor...</td>\n",
       "      <td>Call Movement API with {\"product-name\" = \"Home...</td>\n",
       "      <td>Movement/Sales</td>\n",
       "    </tr>\n",
       "    <tr>\n",
       "      <th>4</th>\n",
       "      <td>What was the sales performance for Shoes in Zo...</td>\n",
       "      <td>Call Movement API with {\"product-name\" = \"Shoe...</td>\n",
       "      <td>Movement/Sales</td>\n",
       "    </tr>\n",
       "    <tr>\n",
       "      <th>...</th>\n",
       "      <td>...</td>\n",
       "      <td>...</td>\n",
       "      <td>...</td>\n",
       "    </tr>\n",
       "    <tr>\n",
       "      <th>77</th>\n",
       "      <td>Export this report to a CSV file.</td>\n",
       "      <td>Call Export API with {\"type\" = \"csv\", data = C...</td>\n",
       "      <td>Export</td>\n",
       "    </tr>\n",
       "    <tr>\n",
       "      <th>78</th>\n",
       "      <td>Forward this report to Sarah.</td>\n",
       "      <td>Call Email API with {\"recipient\" = \"Sarah\", da...</td>\n",
       "      <td>Email</td>\n",
       "    </tr>\n",
       "    <tr>\n",
       "      <th>79</th>\n",
       "      <td>Share this report with Alex through email.</td>\n",
       "      <td>Call Email API with {\"recipient\" = \"Alex\", dat...</td>\n",
       "      <td>Email</td>\n",
       "    </tr>\n",
       "    <tr>\n",
       "      <th>80</th>\n",
       "      <td>Can you direct me to the screen where I can re...</td>\n",
       "      <td>Call Navigation API with {\"screen-name\" = \"Pri...</td>\n",
       "      <td>Navigation</td>\n",
       "    </tr>\n",
       "    <tr>\n",
       "      <th>81</th>\n",
       "      <td>Navigate me to the price review and approval p...</td>\n",
       "      <td>Call Navigation API with {\"screen-name\" = \"Pri...</td>\n",
       "      <td>Navigation</td>\n",
       "    </tr>\n",
       "  </tbody>\n",
       "</table>\n",
       "<p>82 rows × 3 columns</p>\n",
       "</div>"
      ],
      "text/plain": [
       "                                                Query  \\\n",
       "0   What were the sales numbers for Men's Clothing...   \n",
       "1   Can you give me the sales figures for Beauty p...   \n",
       "2   I need to see the movement of Electronics in Z...   \n",
       "3   How much revenue was generated from Home Decor...   \n",
       "4   What was the sales performance for Shoes in Zo...   \n",
       "..                                                ...   \n",
       "77                  Export this report to a CSV file.   \n",
       "78                      Forward this report to Sarah.   \n",
       "79         Share this report with Alex through email.   \n",
       "80  Can you direct me to the screen where I can re...   \n",
       "81  Navigate me to the price review and approval p...   \n",
       "\n",
       "                                             Response        Category  \n",
       "0   Call Movement API with {\"product-name\" = \"Men'...  Movement/Sales  \n",
       "1   Call Movement API with {\"product-name\" = \"Beau...  Movement/Sales  \n",
       "2   Call Movement API with {\"product-name\" = \"Elec...  Movement/Sales  \n",
       "3   Call Movement API with {\"product-name\" = \"Home...  Movement/Sales  \n",
       "4   Call Movement API with {\"product-name\" = \"Shoe...  Movement/Sales  \n",
       "..                                                ...             ...  \n",
       "77  Call Export API with {\"type\" = \"csv\", data = C...          Export  \n",
       "78  Call Email API with {\"recipient\" = \"Sarah\", da...           Email  \n",
       "79  Call Email API with {\"recipient\" = \"Alex\", dat...           Email  \n",
       "80  Call Navigation API with {\"screen-name\" = \"Pri...      Navigation  \n",
       "81  Call Navigation API with {\"screen-name\" = \"Pri...      Navigation  \n",
       "\n",
       "[82 rows x 3 columns]"
      ]
     },
     "execution_count": 1,
     "metadata": {},
     "output_type": "execute_result"
    }
   ],
   "source": [
    "import pandas as pd\n",
    "df = pd.read_csv(\"../data/few_shot_samples.csv\")\n",
    "df = df[~df.Category.isna()].reset_index(drop=True)\n",
    "df = df.rename(columns={\"Generated Prompts\" : \"Query\"})\n",
    "categories = df.Category.unique().tolist()\n",
    "df"
   ]
  },
  {
   "cell_type": "code",
   "execution_count": 2,
   "id": "e4021966",
   "metadata": {},
   "outputs": [
    {
     "data": {
      "text/plain": [
       "['Movement/Sales',\n",
       " 'Budget/Forecast',\n",
       " 'KVI',\n",
       " 'Price Change',\n",
       " 'Promotions Percent',\n",
       " 'Sales Comparison',\n",
       " 'Promotions',\n",
       " 'KVI / Price Change',\n",
       " 'Competitor Comparison',\n",
       " 'Promotion Analysis',\n",
       " 'Export',\n",
       " 'Email',\n",
       " 'Navigation']"
      ]
     },
     "execution_count": 2,
     "metadata": {},
     "output_type": "execute_result"
    }
   ],
   "source": [
    "categories"
   ]
  },
  {
   "cell_type": "code",
   "execution_count": 3,
   "id": "7aaea99c",
   "metadata": {},
   "outputs": [
    {
     "name": "stdout",
     "output_type": "stream",
     "text": [
      "Q: What are the items with a cost change in the last three weeks for Toys and Games in Zone 450?\n",
      "Call Cost API with {\"product-name\" = \"Toys and Games\", \"location-name\" = \"Zone 450\", week = \"last 3\", change = \"Y\"}\n",
      "\n",
      "Q: Show me the products with a price change in the last three weeks for Office Supplies in Zone 690.\n",
      "Call Price API with {\"product-name\" = \"Office Supplies\", \"location-name\" = \"Zone 690\", week = \"last 3\", change = \"Y\"}\n",
      "\n",
      "Q: Show me all items with a cost change in the last two weeks for Home Appliances in Zone 880.\n",
      "Call Cost API with {\"product-name\" = \"Home Appliances\", \"location-name\" = \"Zone 880\", week = \"last 2\", change = \"Y\"}\n",
      "\n"
     ]
    }
   ],
   "source": [
    "category_df = df[df.Category==\"Price Change\"]\n",
    "category_df.sample(3)\n",
    "for index, row in category_df.sample(3).iterrows():\n",
    "    print(f\"Q: {row.Query}\\n{row.Response}\\n\")"
   ]
  },
  {
   "cell_type": "code",
   "execution_count": 4,
   "id": "399e07c3",
   "metadata": {},
   "outputs": [],
   "source": [
    "def construct_context(df, category, nsamples=3):\n",
    "    category_df = df[df.Category==category]\n",
    "    size = category_df.shape[0]\n",
    "    nsamples = min(nsamples, size)\n",
    "    df_n = category_df.sample(nsamples)\n",
    "    context = f\"{category}\\n====\\n\\n\"\n",
    "    for _, row in df_n.iterrows():\n",
    "        context += f\"Q: {row.Query}\\n{row.Response}\\n\\n\"\n",
    "        \n",
    "    return context.strip()"
   ]
  },
  {
   "cell_type": "code",
   "execution_count": 5,
   "id": "4ec4f551",
   "metadata": {},
   "outputs": [
    {
     "name": "stdout",
     "output_type": "stream",
     "text": [
      "Price Change\n",
      "====\n",
      "\n",
      "Q: Show me the products with a price change in the last three weeks for Office Supplies in Zone 690.\n",
      "Call Price API with {\"product-name\" = \"Office Supplies\", \"location-name\" = \"Zone 690\", week = \"last 3\", change = \"Y\"}\n",
      "\n",
      "Q: What are the products that have had a price change in the last week for Meat and Poultry in Zone 450?\n",
      "Call Price API with {\"product-name\" = \"Meat and Poultry\", \"location-name\" = \"Zone 450\", week = \"last week\", change = \"Y\"}\n",
      "\n",
      "Q: Provide me with a list of all items with a cost change in the last month for Personal Care in Zone 15.\n",
      "Call Cost API with {\"product-name\" = \"Personal Care\", \"location-name\" = \"Zone 15\", week = \"last month\", change = \"Y\"}\n"
     ]
    }
   ],
   "source": [
    "print(construct_context(df, \"Price Change\"))"
   ]
  },
  {
   "cell_type": "markdown",
   "id": "26d83e64",
   "metadata": {},
   "source": [
    "## Construct Unstructured Document\n",
    "\n",
    "Seems like a step backward. "
   ]
  },
  {
   "cell_type": "code",
   "execution_count": 6,
   "id": "e095d3eb",
   "metadata": {},
   "outputs": [
    {
     "name": "stdout",
     "output_type": "stream",
     "text": [
      "Movement/Sales\n",
      "====\n",
      "\n",
      "Q: Can you provide me with the sales data for Toys and Games in Zone 800 for the last six months?\n",
      "Call Movement API with {\"product-name\" = \"Toys and Games\", \"quarter\" = \"last six months\", \"metrics\" = [\"sales\"], \"location-name\" = \"Zone 800\"}\n",
      "\n",
      "Q: Please give me the sales performance of Pet Supplies in Zone 150 for Q2 and Q3 of last year.\n",
      "Call Movement API with {\"product-name\" = \"Pet Supplies\", \"quarter\" = [\"Q2\", \"Q3\"], \"metrics\" = [\"sales\"], \"location-name\" = \"Zone 150\"}\n",
      "\n",
      "Q: What were the quarterly sales figures for Sports Equipment in Zone 400?\n",
      "Call Movement API with {\"product-name\" = \"Sports Equipment\", \"quarter\" = \"quarterly\", \"metrics\" = [\"sales\"], \"location-name\" = \"Zone 400\"}\n",
      "\n",
      "Promotions Percent\n",
      "====\n",
      "\n",
      "Q: What percentage of our Produce sales in Zone 20 are from promotions for the next six months?\n",
      "Call Movement API with {\"product-name\" = \"Produce\", \"location-name\" = \"Zone 20\", week = \"next 6 months\", metrics = [\"sales\"]} and Call Movement API with {\"product-name\" = \"Produce\", \"location-name\" = \"Zone 20\", week = \"next 6 months\", metrics = [\"sales\"], \"promo\" = \"Y\"} and Call Calculator API with {\"operation\" = \"division\", \"data\" = [Movement API Response 2, Movement API Response 1], \"format\" = \"percent\"}\n",
      "\n",
      "Q: Can you provide me with the percentage of sales from promotions for Bakery products for the first half of the year in Zone 1?\n",
      "Call Movement API with {\"product-name\" = \"Bakery\", \"location-name\" = \"Zone 1\", \"start-date\" = \"01-01-YYYY\", \"end-date\" = \"06-30-YYYY\", metrics = [\"sales\"]} and Call Movement API with {\"product-name\" = \"Bakery\", \"location-name\" = \"Zone 1\", \"start-date\" = \"01-01-YYYY\", \"end-date\" = \"06-30-YYYY\", metrics = [\"sales\"], \"promo\" = \"Y\"} and Call Calculator API with {\"operation\" = \"division\", \"data\" = [Movement API Response 2, Movement API Response 1], \"format\" = \"percent\"}\n",
      "\n",
      "Q: How much of our sales for Canned Goods in Zone 50 are from promotions in the current quarter?\n",
      "Call Movement API with {\"product-name\" = \"Canned Goods\", \"location-name\" = \"Zone 50\", week = \"current quarter\", metrics = [\"sales\"]} and Call Movement API with {\"product-name\" = \"Canned Goods\", \"location-name\" = \"Zone 50\", week = \"current quarter\", metrics = [\"sales\"], \"promo\" = \"Y\"} and Call Calculator API with {\"operation\" = \"division\", \"data\" = [Movement API Response 2, Movement API Response 1], \"format\" = \"percent\"}\n",
      "\n",
      "KVI\n",
      "====\n",
      "\n",
      "Q: Can you provide me with a list of Top KVIs for Home Appliances in Zone 260?\n",
      "Call KVI API with {\"product-name\" = \"Home Appliances\", \"location-name\" = \"Zone 260\", type = \"Primary\"}\n",
      "\n",
      "Q: What are the Secondary KVIs for Health and Wellness in Zone 15?\n",
      "Call KVI API with {\"product-name\" = \"Health and Wellness\", \"location-name\" = \"Zone 15\", type = \"Secondary\"}\n",
      "\n",
      "Q: What are the Secondary KVIs for Office Supplies in Zone 690?\n",
      "Call KVI API with {\"product-name\" = \"Office Supplies\", \"location-name\" = \"Zone 690\", type = \"Secondary\"}\n",
      "\n",
      "Email\n",
      "====\n",
      "\n",
      "Q: Share this report with Alex through email.\n",
      "Call Email API with {\"recipient\" = \"Alex\", data = Current Screen}\n",
      "\n",
      "Q: Forward this report to Sarah.\n",
      "Call Email API with {\"recipient\" = \"Sarah\", data = Current Screen}\n",
      "\n",
      "Budget/Forecast\n",
      "====\n",
      "\n",
      "Q: What is the expected revenue for Seafood in the current quarter across all locations?\n",
      "Call Budget API with {\"product-name\" = \"Seafood\", \"quarter\" = \"current\", \"location-name\" = \"all\"} and Call Forecast API with {\"product-name\" = \"Seafood\", \"quarter\" = \"current\", \"location-name\" = \"all\"}\n",
      "\n",
      "Q: Can you give me an update on the revenue projections for Dairy in Zone 880 for the next three months?\n",
      "Call Budget API with {\"product-name\" = \"Dairy\", \"quarter\" = \"next-3-months\", \"location-name\" = \"Zone 880\"} and Call Forecast API with {\"product-name\" = \"Dairy\", \"quarter\" = \"next-3-months\", \"location-name\" = \"Zone 880\"}\n",
      "\n",
      "Q: What are the sales targets for Snacks in Zone 35 for the next quarter?\n",
      "Call Budget API with {\"product-name\" = \"Snacks\", \"quarter\" = \"next\", \"location-name\" = \"Zone 35\"} and Call Forecast API with {\"product-name\" = \"Snacks\", \"quarter\" = \"next\", \"location-name\" = \"Zone 35\"}\n",
      "\n",
      "Competitor Comparison\n",
      "====\n",
      "\n",
      "Q: Is our price for Avocados competitive in the West Coast region compared to Safeway?\n",
      "Call Price Index API with {\"product-name\" = \"Avacados\", \"location-name\" = \"West Coast\", \"competitor-name\" = \"Safeway\"}\n",
      "\n",
      "Q: What is the price difference between our store and Publix for Diapers in the midwest?\n",
      "Call Price Index API with {\"product-name\" = \"Diapers\", \"location-name\" = \"Midwest\", \"competitor-name\" = \"Publix\"}\n",
      "\n",
      "Price Change\n",
      "====\n",
      "\n",
      "Q: Provide me with a list of all items with a cost change in the last month for Personal Care in Zone 15.\n",
      "Call Cost API with {\"product-name\" = \"Personal Care\", \"location-name\" = \"Zone 15\", week = \"last month\", change = \"Y\"}\n",
      "\n",
      "Q: Can you provide me with a list of all products with a price change in the last four weeks for Frozen Foods in Zone 35?\n",
      "Call Price API with {\"product-name\" = \"Frozen Foods\", \"location-name\" = \"Zone 35\", week = \"last 4\", change = \"Y\"}\n",
      "\n",
      "Q: What are the items with a cost change in the last five days for Canned Goods in Zone 260?\n",
      "Call Cost API with {\"product-name\" = \"Canned Goods\", \"location-name\" = \"Zone 260\", week = \"last 5 days\", change = \"Y\"}\n",
      "\n",
      "Sales Comparison\n",
      "====\n",
      "\n",
      "Q: Give me a comparison of Eye/Ear Care sales for Zone 1000 this year versus last year.\n",
      "Call Movement API with {\"product-name\" = \"Eye/Ear Care\", \"location-name\" = \"Zone 1000\", year = \"last 1\", \"location-aggregate-level\" = \"week\"} and Call Movement API with {\"product-name\" = \"Eye/Ear Care\", \"location-name\" = \"Zone 1000\", year = \"current\", \"location-aggregate-level\" = \"week\"}\n",
      "\n",
      "Q: Can you show me the YoY change in sales for Zone 500 Beauty and Cosmetics?\n",
      "Call Movement API with {\"product-name\" = \"Beauty and Cosmetics\", \"location-name\" = \"Zone 500\", year = \"last 1\", \"location-aggregate-level\" = \"year\"} and Call Movement API with {\"product-name\" = \"Beauty and Cosmetics\", \"location-name\" = \"Zone 500\", year = \"current\", \"location-aggregate-level\" = \"year\"} and Call Calculator API with {\"operation\" = \"percentage change\", \"data\" = [Movement API Response 2, Movement API Response 1], \"format\" = \"percent\"}\n",
      "\n",
      "Q: Provide me with a comparison of Snacks and Confectionery sales for Zone 150 over the last two years.\n",
      "Call Movement API with {\"product-name\" = \"Snacks and Confectionery\", \"location-name\" = \"Zone 150\", year = \"last 2\", \"location-aggregate-level\" = \"week\"} and Call Movement API with {\"product-name\" = \"Snacks and Confectionery\", \"location-name\" = \"Zone 150\", year = \"current\", \"location-aggregate-level\" = \"week\"}\n",
      "\n",
      "KVI / Price Change\n",
      "====\n",
      "\n",
      "Q: Show me the list of KVIs in Snacks category with scheduled price changes for Zone 336 in the next 4 weeks.\n",
      "Call KVI API with {\"product-name\" = \"Snacks\", \"location-name\" = \"Zone 336\"} and Call Price API with {\"item-list\" = KVI API Response, \"location-name\" = \"Zone 336\", week = \"next 4\", change = \"Y\"}\n",
      "\n",
      "Q: Show me the KVIs with scheduled price changes for Zone 200 in the next 3 weeks.\n",
      "Call KVI API with {\"product-name\" = \"Center Store\", \"location-name\" = \"Zone 200\"} and Call Price API with {\"item-list\" = KVI API Response, \"location-name\" = \"Zone 200\", week = \"next 3\", change = \"Y\"}\n",
      "\n",
      "Navigation\n",
      "====\n",
      "\n",
      "Q: Can you direct me to the screen where I can review and approve prices?\n",
      "Call Navigation API with {\"screen-name\" = \"Price Review & Approval\"}\n",
      "\n",
      "Q: Navigate me to the price review and approval page.\n",
      "Call Navigation API with {\"screen-name\" = \"Price Review & Approval\"}\n",
      "\n",
      "Promotion Analysis\n",
      "====\n",
      "\n",
      "Q: Give me the top two promotions for Zone 500 Beverages in the last week.\n",
      "Call Promo Analysis API with {\"product-name\" = \"Beverages\", \"top\" = 2, \"last\" = 1, \"aggregate_by\" = \"week\", \"location\" = \"Zone 500\" }\n",
      "\n",
      "Q: What are the most effective promotions for the Beauty category in the last 3 months in Zone 733?\n",
      "Call Promo Analysis API with {\"product-name\" = \"Beauty\", \"top\" = 3, \"last\" = 3, \"aggregate_by\" = \"month\", \"location\" = \"Zone 733\" }\n",
      "\n",
      "Promotions\n",
      "====\n",
      "\n",
      "Q: Which products are planned to have a BOGO 50% off offer in the next week in the Baby Care category? Are any of these products available in Zone 820?\n",
      "Call Promo API with {\"product-name\" = \"Baby Care\", \"location-name\" = \"Zone 820\", \"week\" = \"upcoming\", \"type\" = \"BOGO 50% off\"}\n",
      "\n",
      "Q: What are the upcoming products with a Buy 3 Get 1 Free offer in the Pet Supplies category? Which of these products are in Zone 710?\n",
      "Call Promo API with {\"product-name\" = \"Pet Supplies\", \"location-name\" = \"Zone 710\", \"week\" = \"next few days\", \"type\" = \"Buy 3 Get 1 Free\"}\n",
      "\n",
      "Q: What are the upcoming products with a BOGO Free offer in the Health and Wellness category? Which of these products are available in Zone 520?\n",
      "Call Promo API with {\"product-name\" = \"Health and Wellness\", \"location-name\" = \"Zone 520\", \"week\" = \"upcoming\", \"type\" = \"BOGO Free\"}\n",
      "\n",
      "Export\n",
      "====\n",
      "\n",
      "Q: Save this report in an Excel format.\n",
      "Call Export API with {\"type\" = \"Excel\", data = Current Screen}\n",
      "\n",
      "Q: Export this report to a CSV file.\n",
      "Call Export API with {\"type\" = \"csv\", data = Current Screen}\n"
     ]
    }
   ],
   "source": [
    "from random import shuffle\n",
    "\n",
    "doc = \"\"\n",
    "shuffle(categories)\n",
    "for category in categories:\n",
    "    doc += construct_context(df, category)\n",
    "    doc += \"\\n\\n\"\n",
    "    \n",
    "doc = doc.strip()\n",
    "with open(\"../data/few_shot_samples.unstructured.txt\", \"w\") as f:\n",
    "    f.write(doc)\n",
    "    \n",
    "print(open(\"../data/few_shot_samples.unstructured.txt\").read())"
   ]
  },
  {
   "cell_type": "markdown",
   "id": "94013ca1",
   "metadata": {},
   "source": [
    "## Create chunks of text"
   ]
  },
  {
   "cell_type": "code",
   "execution_count": 7,
   "id": "eeddb322",
   "metadata": {},
   "outputs": [],
   "source": [
    "from random import shuffle\n",
    "\n",
    "text_chunks = []\n",
    "shuffle(categories)\n",
    "for category in categories:\n",
    "    text_chunks.append(construct_context(df, category))"
   ]
  },
  {
   "cell_type": "markdown",
   "id": "2a37a0e7",
   "metadata": {},
   "source": [
    "# Question Answering from Context"
   ]
  },
  {
   "cell_type": "code",
   "execution_count": 8,
   "id": "c5895062",
   "metadata": {},
   "outputs": [],
   "source": [
    "from langchain.embeddings.openai import OpenAIEmbeddings\n",
    "from langchain.text_splitter import CharacterTextSplitter\n",
    "from langchain.vectorstores import Chroma\n",
    "from langchain.docstore.document import Document\n",
    "from langchain.prompts import PromptTemplate\n",
    "from langchain.indexes.vectorstore import VectorstoreIndexCreator"
   ]
  },
  {
   "cell_type": "markdown",
   "id": "63202a9b",
   "metadata": {},
   "source": [
    "## Add OpenAI Environmental variable"
   ]
  },
  {
   "cell_type": "code",
   "execution_count": 9,
   "id": "dccf07de",
   "metadata": {},
   "outputs": [],
   "source": [
    "import os\n",
    "OPENAI_API_KEY = open(\"../credentials/openai.key.txt\").read().replace(\"\\n\", \"\").replace(\" \", \"\")\n",
    "os.environ[\"OPENAI_API_KEY\"] = OPENAI_API_KEY"
   ]
  },
  {
   "cell_type": "code",
   "execution_count": 10,
   "id": "fd424a9a",
   "metadata": {},
   "outputs": [
    {
     "name": "stderr",
     "output_type": "stream",
     "text": [
      "Using embedded DuckDB without persistence: data will be transient\n"
     ]
    }
   ],
   "source": [
    "embeddings = OpenAIEmbeddings()\n",
    "docsearch = Chroma.from_texts(text_chunks, embeddings, metadatas=[{\"source\": str(i)} for i in range(len(text_chunks))])"
   ]
  },
  {
   "cell_type": "markdown",
   "id": "5b4ffe48",
   "metadata": {},
   "source": [
    "## Get Context similar to Query"
   ]
  },
  {
   "cell_type": "code",
   "execution_count": 14,
   "id": "c54cfe90",
   "metadata": {},
   "outputs": [
    {
     "name": "stdout",
     "output_type": "stream",
     "text": [
      "Budget/Forecast\n",
      "====\n",
      "\n",
      "Q: Can you provide me with the budget projections for Produce in Zone 450 for the next quarter?\n",
      "Call Budget API with {\"product-name\" = \"Produce\", \"quarter\" = \"next\", \"location-name\" = \"Zone 450\"} and Call Forecast API with {\"product-name\" = \"Produce\", \"quarter\" = \"next\", \"location-name\" = \"Zone 450\"}\n",
      "\n",
      "Q: Can you give me an update on the revenue projections for Dairy in Zone 880 for the next three months?\n",
      "Call Budget API with {\"product-name\" = \"Dairy\", \"quarter\" = \"next-3-months\", \"location-name\" = \"Zone 880\"} and Call Forecast API with {\"product-name\" = \"Dairy\", \"quarter\" = \"next-3-months\", \"location-name\" = \"Zone 880\"}\n",
      "\n",
      "Q: Can you tell me the budget goals for Frozen Foods for the entire year?\n",
      "Call Budget API with {\"product-name\" = \"Frozen Foods\", \"quarter\" = \"yearly\", \"location-name\" = \"all\"} and Call Forecast API with {\"product-name\" = \"Frozen Foods\", \"quarter\" = \"yearly\", \"location-name\" = \"all\"}\n"
     ]
    }
   ],
   "source": [
    "query = \"How are we tracking against the budget goals for Deli products for the first half of the year?\"\n",
    "output = docsearch.similarity_search(query, k=3)\n",
    "print(output[0].page_content)"
   ]
  },
  {
   "cell_type": "markdown",
   "id": "eb91d9f3",
   "metadata": {},
   "source": [
    "## Chain llm and docsearch"
   ]
  },
  {
   "cell_type": "code",
   "execution_count": 16,
   "id": "5b00e78a",
   "metadata": {},
   "outputs": [
    {
     "data": {
      "text/plain": [
       "' Call Budget API with {\"product-name\" = \"Deli\", \"quarter\" = \"first-half-year\", \"location-name\" = \"all\"} and Call Forecast API with {\"product-name\" = \"Deli\", \"quarter\" = \"first-half-year\", \"location-name\" = \"all\"}'"
      ]
     },
     "execution_count": 16,
     "metadata": {},
     "output_type": "execute_result"
    }
   ],
   "source": [
    "from langchain.chains.question_answering import load_qa_chain\n",
    "from langchain.llms import OpenAI\n",
    "\n",
    "chain = load_qa_chain(OpenAI(temperature=0), chain_type=\"stuff\")\n",
    "query = \"How are we tracking against the budget goals for Deli products for the first half of the year?\"\n",
    "docs = docsearch.similarity_search(query, k=1)\n",
    "chain.run(input_documents=docs, question=query)"
   ]
  },
  {
   "cell_type": "code",
   "execution_count": 17,
   "id": "b2d85933",
   "metadata": {},
   "outputs": [],
   "source": [
    "def ai(q):\n",
    "    context = docsearch.similarity_search(q, k=1)\n",
    "    return chain.run(input_documents=context, question=q)"
   ]
  },
  {
   "cell_type": "markdown",
   "id": "12f241ed",
   "metadata": {},
   "source": [
    "## Movement"
   ]
  },
  {
   "cell_type": "code",
   "execution_count": 18,
   "id": "bd9d869e",
   "metadata": {},
   "outputs": [
    {
     "data": {
      "text/plain": [
       "' Call Movement API with {\"product-name\" = \"Shoes\", \"quarter\" = 4, \"metrics\" = [\"sales\"], \"location-name\" = \"Zone 300\"}'"
      ]
     },
     "execution_count": 18,
     "metadata": {},
     "output_type": "execute_result"
    }
   ],
   "source": [
    "ai(\"What was the sales performance for Shoes in Zone 300 in Q4 of last year?\")"
   ]
  },
  {
   "cell_type": "code",
   "execution_count": 40,
   "id": "6f62f58d",
   "metadata": {},
   "outputs": [
    {
     "data": {
      "text/plain": [
       "' Call Movement API with {\"product-name\" = \"Grocery\", \"quarter\" = 3, \"metrics\" = [\"sales\"], \"location-name\" = \"Zone 69\"}'"
      ]
     },
     "execution_count": 40,
     "metadata": {},
     "output_type": "execute_result"
    }
   ],
   "source": [
    "ai(\"I need sales data for Grocery for Q3 at Zone 69.\")"
   ]
  },
  {
   "cell_type": "markdown",
   "id": "3d26137f",
   "metadata": {},
   "source": [
    "## Budget / Forecast"
   ]
  },
  {
   "cell_type": "code",
   "execution_count": 19,
   "id": "fea9e8a2",
   "metadata": {},
   "outputs": [
    {
     "data": {
      "text/plain": [
       "' Call Budget API with {\"product-name\" = \"Meat and Poultry\", \"quarter\" = \"yearly\", \"location-name\" = \"all\"} and Call Forecast API with {\"product-name\" = \"Meat and Poultry\", \"quarter\" = \"yearly\", \"location-name\" = \"all\"}'"
      ]
     },
     "execution_count": 19,
     "metadata": {},
     "output_type": "execute_result"
    }
   ],
   "source": [
    "ai(\"What are the financial goals for Meat and Poultry for the upcoming year?\")"
   ]
  },
  {
   "cell_type": "markdown",
   "id": "cea8b78d",
   "metadata": {},
   "source": [
    "## KVI"
   ]
  },
  {
   "cell_type": "code",
   "execution_count": 20,
   "id": "43bca4e6",
   "metadata": {},
   "outputs": [
    {
     "data": {
      "text/plain": [
       "' Call KVI API with {\"product-name\" = \"Baby Products\", \"location-name\" = \"Zone 20\", type = \"Primary\"}'"
      ]
     },
     "execution_count": 20,
     "metadata": {},
     "output_type": "execute_result"
    }
   ],
   "source": [
    "ai(\"Give me the Primary KVIs for Baby Products in Zone 20.\")"
   ]
  },
  {
   "cell_type": "markdown",
   "id": "93376e43",
   "metadata": {},
   "source": [
    "## Cost change"
   ]
  },
  {
   "cell_type": "code",
   "execution_count": 21,
   "id": "01f0b2db",
   "metadata": {},
   "outputs": [
    {
     "data": {
      "text/plain": [
       "' Call Cost API with {\"product-name\" = \"Meat and Poultry\", \"location-name\" = \"Zone 450\", week = \"last week\", change = \"Y\"}'"
      ]
     },
     "execution_count": 21,
     "metadata": {},
     "output_type": "execute_result"
    }
   ],
   "source": [
    "ai(\"What are the products that have had a price change in the last week for Meat and Poultry in Zone 450?\")"
   ]
  },
  {
   "cell_type": "markdown",
   "id": "1fa5d380",
   "metadata": {},
   "source": [
    "## Promotions Percent"
   ]
  },
  {
   "cell_type": "code",
   "execution_count": 22,
   "id": "f92addce",
   "metadata": {},
   "outputs": [
    {
     "data": {
      "text/plain": [
       "' Call Movement API with {\"product-name\" = \"Produce\", \"location-name\" = \"Zone 20\", week = \"next six months\", metrics = [\"sales\"]} and Call Movement API with {\"product-name\" = \"Produce\", \"location-name\" = \"Zone 20\", week = \"next six months\", metrics = [\"sales\"], \"promo\" = \"Y\"} and Call Calculator API with {\"operation\" = \"division\", \"data\" = [Movement API Response 2, Movement API Response 1], \"format\" = \"percent\"}'"
      ]
     },
     "execution_count": 22,
     "metadata": {},
     "output_type": "execute_result"
    }
   ],
   "source": [
    "ai(\"What percentage of our Produce sales in Zone 20 are from promotions for the next six months?\")"
   ]
  },
  {
   "cell_type": "markdown",
   "id": "f79fbea7",
   "metadata": {},
   "source": [
    "## Sales Comparison"
   ]
  },
  {
   "cell_type": "code",
   "execution_count": 23,
   "id": "84c28f3c",
   "metadata": {},
   "outputs": [
    {
     "data": {
      "text/plain": [
       "' Call Movement API with {\"product-name\" = \"Personal Care\", \"location-name\" = \"Zone 750\", year = \"last 1\", \"location-aggregate-level\" = \"quarter\"} and Call Movement API with {\"product-name\" = \"Personal Care\", \"location-name\" = \"Zone 750\", year = \"current\", \"location-aggregate-level\" = \"quarter\"}'"
      ]
     },
     "execution_count": 23,
     "metadata": {},
     "output_type": "execute_result"
    }
   ],
   "source": [
    "ai(\"Give me a comparison of sales for Personal Care products in Zone 750 for the current quarter and the same quarter last year.\")"
   ]
  },
  {
   "cell_type": "code",
   "execution_count": 24,
   "id": "b9fe48ea",
   "metadata": {},
   "outputs": [
    {
     "data": {
      "text/plain": [
       "' Call Movement API with {\"product-name\" = \"Snacks and Confectionery\", \"location-name\" = \"Zone 150\", year = \"last 1\", \"location-aggregate-level\" = \"year\"} and Call Movement API with {\"product-name\" = \"Snacks and Confectionery\", \"location-name\" = \"Zone 150\", year = \"current\", \"location-aggregate-level\" = \"year\"} and Call Calculator API with {\"operation\" = \"percentage change\", \"data\" = [Movement API Response 2, Movement API Response 1], \"format\" = \"percent\"}'"
      ]
     },
     "execution_count": 24,
     "metadata": {},
     "output_type": "execute_result"
    }
   ],
   "source": [
    "ai(\"Provide me with a year-to-year comparison of sales for Snacks and Confectionery in Zone 150.\")"
   ]
  },
  {
   "cell_type": "markdown",
   "id": "d493a089",
   "metadata": {},
   "source": [
    "## Promotions"
   ]
  },
  {
   "cell_type": "code",
   "execution_count": 25,
   "id": "f7428801",
   "metadata": {},
   "outputs": [
    {
     "data": {
      "text/plain": [
       "' Call Promo API with {\"product-name\" = \"Toys\", \"location-name\" = \"Zone 950\", \"week\" = \"upcoming\", \"type\" = \"BOGO 25% off\"}'"
      ]
     },
     "execution_count": 25,
     "metadata": {},
     "output_type": "execute_result"
    }
   ],
   "source": [
    "ai(\"Give me a list of upcoming items with a BOGO 25% off offer in the Toys category. Which of these items are in Zone 950?\")\n"
   ]
  },
  {
   "cell_type": "markdown",
   "id": "a082d561",
   "metadata": {},
   "source": [
    "## KVI / Price change"
   ]
  },
  {
   "cell_type": "code",
   "execution_count": 26,
   "id": "fdfb20ca",
   "metadata": {},
   "outputs": [
    {
     "data": {
      "text/plain": [
       "' Call KVI API with {\"product-name\" = \"Center Store\", \"location-name\" = \"Zone 500\"} and Call Price API with {\"item-list\" = KVI API Response, \"location-name\" = \"Zone 500\", week = \"next 4\", change = \"Y\"}'"
      ]
     },
     "execution_count": 26,
     "metadata": {},
     "output_type": "execute_result"
    }
   ],
   "source": [
    "ai(\"What are the KVIs for Zone 500 which have a scheduled price change in the coming month?\")\n"
   ]
  },
  {
   "cell_type": "markdown",
   "id": "de8266aa",
   "metadata": {},
   "source": [
    "## Competitor Comparison"
   ]
  },
  {
   "cell_type": "code",
   "execution_count": 27,
   "id": "af227785",
   "metadata": {},
   "outputs": [
    {
     "data": {
      "text/plain": [
       "' Call Price Index API with {\"product-name\" = \"Snacks\", \"location-name\" = \"Midwest\", \"competitor-name\" = \"Meijer\"}'"
      ]
     },
     "execution_count": 27,
     "metadata": {},
     "output_type": "execute_result"
    }
   ],
   "source": [
    "ai(\"How does our current price for Snacks compare to Meijer in the Midwest?\")\n"
   ]
  },
  {
   "cell_type": "markdown",
   "id": "82d40c09",
   "metadata": {},
   "source": [
    "## Promotion Analysis"
   ]
  },
  {
   "cell_type": "code",
   "execution_count": 31,
   "id": "34d40009",
   "metadata": {},
   "outputs": [
    {
     "data": {
      "text/plain": [
       "' Call Promo Analysis API with {\"product-name\" = \"Cleaning Supplies\", \"top\" = 2, \"last\" = 2, \"aggregate_by\" = \"month\"}'"
      ]
     },
     "execution_count": 31,
     "metadata": {},
     "output_type": "execute_result"
    }
   ],
   "source": [
    "ai(\"Which promotions have shown the best results for the Cleaning Supplies category in the last 2 months?\")"
   ]
  },
  {
   "cell_type": "markdown",
   "id": "62c2189e",
   "metadata": {},
   "source": [
    "## Export Report"
   ]
  },
  {
   "cell_type": "code",
   "execution_count": 32,
   "id": "3da1260e",
   "metadata": {},
   "outputs": [
    {
     "data": {
      "text/plain": [
       "' Call Export API with {\"type\" = \"XLSX\", data = Current Screen}'"
      ]
     },
     "execution_count": 32,
     "metadata": {},
     "output_type": "execute_result"
    }
   ],
   "source": [
    "ai(\"Save this report in an XLSX format.\")"
   ]
  },
  {
   "cell_type": "markdown",
   "id": "e15bbf18",
   "metadata": {},
   "source": [
    "## Email"
   ]
  },
  {
   "cell_type": "code",
   "execution_count": 33,
   "id": "73c0ac01",
   "metadata": {},
   "outputs": [
    {
     "data": {
      "text/plain": [
       "' Call Email API with {\"recipient\" = \"Kevin\", data = Current Screen}'"
      ]
     },
     "execution_count": 33,
     "metadata": {},
     "output_type": "execute_result"
    }
   ],
   "source": [
    "ai(\"Dispatch this report to Kevin via email.\")"
   ]
  },
  {
   "cell_type": "markdown",
   "id": "74cdfec2",
   "metadata": {},
   "source": [
    "## Navigation"
   ]
  },
  {
   "cell_type": "code",
   "execution_count": 34,
   "id": "2388f3eb",
   "metadata": {},
   "outputs": [
    {
     "data": {
      "text/plain": [
       "' You can call the Navigation API with {\"screen-name\" = \"Price Review & Approval\"} to be directed to the price review and approval page.'"
      ]
     },
     "execution_count": 34,
     "metadata": {},
     "output_type": "execute_result"
    }
   ],
   "source": [
    "ai(\"Guide me to the price review and approval screen, please.\")"
   ]
  },
  {
   "cell_type": "code",
   "execution_count": 35,
   "id": "cb834429",
   "metadata": {},
   "outputs": [
    {
     "data": {
      "text/plain": [
       "' Yes, you can access the screen where you can review and approve prices by calling the Navigation API with {\"screen-name\" = \"Price Review & Approval\"}.'"
      ]
     },
     "execution_count": 35,
     "metadata": {},
     "output_type": "execute_result"
    }
   ],
   "source": [
    "ai(\"I would like to access the screen where I can review and approve prices. Could you guide me there?\")"
   ]
  },
  {
   "cell_type": "code",
   "execution_count": 36,
   "id": "2a4135b7",
   "metadata": {},
   "outputs": [
    {
     "data": {
      "text/plain": [
       "' Call Navigation API with {\"screen-name\" = \"Price Review & Approval\"}'"
      ]
     },
     "execution_count": 36,
     "metadata": {},
     "output_type": "execute_result"
    }
   ],
   "source": [
    "ai(\"Navigate me to the price review and approval page.\")"
   ]
  }
 ],
 "metadata": {
  "kernelspec": {
   "display_name": "env-llm",
   "language": "python",
   "name": "env-llm"
  },
  "language_info": {
   "codemirror_mode": {
    "name": "ipython",
    "version": 3
   },
   "file_extension": ".py",
   "mimetype": "text/x-python",
   "name": "python",
   "nbconvert_exporter": "python",
   "pygments_lexer": "ipython3",
   "version": "3.10.6"
  }
 },
 "nbformat": 4,
 "nbformat_minor": 5
}
