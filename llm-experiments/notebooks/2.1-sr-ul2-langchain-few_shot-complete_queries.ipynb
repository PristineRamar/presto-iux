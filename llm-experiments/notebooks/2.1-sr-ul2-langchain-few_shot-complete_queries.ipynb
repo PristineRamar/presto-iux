{
 "cells": [
  {
   "cell_type": "markdown",
   "id": "99283fc1",
   "metadata": {},
   "source": [
    "# Few Shot QA\n",
    "Answer complete information queries"
   ]
  },
  {
   "cell_type": "code",
   "execution_count": 2,
   "id": "33f51c1a",
   "metadata": {},
   "outputs": [],
   "source": [
    "import os\n",
    "HF_KEY = open(\"../credentials/huggingface.key.txt\").read().replace(\"\\n\", \"\").replace(\" \", \"\")\n",
    "os.environ[\"HUGGINGFACEHUB_API_TOKEN\"] = HF_KEY"
   ]
  },
  {
   "cell_type": "code",
   "execution_count": 5,
   "id": "384e1b33",
   "metadata": {},
   "outputs": [],
   "source": [
    "from langchain.llms import HuggingFaceHub\n",
    "llm = HuggingFaceHub(repo_id=\"google/flan-ul2\", model_kwargs={\"temperature\":0.1, \"max_new_tokens\":200})"
   ]
  },
  {
   "cell_type": "markdown",
   "id": "fca74332",
   "metadata": {},
   "source": [
    "User: What % of our Grocery sales come from promotions?\n",
    "AI: Call Movement API with {\"product-name\" = \"Grocery\", \"location-name\" = \"Zone 1000\", metrics = [\"sales\"]} Call Movement API with {\"product-name\" = \"Grocery\", \"location-name\" = \"Zone 1000\", metrics = [\"sales\"], \"promo\" = \"Y\"} Call Calculator API with {\"operation\" = \"division\", \"data\" = [Movement API Response 2, Movement API Response 1], \"format\" = \"percent\"}"
   ]
  },
  {
   "cell_type": "markdown",
   "id": "bba9edc7",
   "metadata": {},
   "source": [
    "## \"I need sales data for Grocery for Q3 at Zone 69.\""
   ]
  },
  {
   "cell_type": "code",
   "execution_count": 6,
   "id": "08887aec",
   "metadata": {},
   "outputs": [
    {
     "name": "stdout",
     "output_type": "stream",
     "text": [
      "Call Sales API with \"product-name\" = \"Grocery\", \"quarter\" = \"Q3\", \"location-name\" = \"Zone 69\"\n"
     ]
    }
   ],
   "source": [
    "prompt = \"\"\"The following are exerpts from conversations with an AI\n",
    "assistant. The assistant takes user queries as input and outputs the \n",
    "corresponding API call by identifying the intent and entities in the \n",
    "query. The assistant should be trained using a set of examples, each \n",
    "containing a query and its corresponding API call. The intent should \n",
    "be mapped to the appropriate API call, while the entities should be \n",
    "extracted and used as parameters for the call.\n",
    "\n",
    "User: Show me sales and movement for Upper Respiratory for Q2 for Zone 1000?\n",
    "AI: Call Movement API with {\"product-name\" = \"Upper Respiratory\", \"quarter\" = 2, \"metrics\" = [\"sales\", \"movement\"], \"location-name\" = \"Zone 1000\"}\n",
    "\n",
    "User: Give me a list of of Primary KVIs under OTC Internal for Zone 42.\n",
    "AI: Call KVI API with {\"product-name\" = \"OTC Internal\", \"location-name\" = \"Zone 42\", type = \"Primary\"}\n",
    "\n",
    "User: What are the budget goals for Dairy for the current quarter for Zone 1042?\n",
    "AI: Budget API with {\"product-name\" = \"Dairy\", \"quarter\" = \"current\", \"location-name\" = \"Zone 1042\"}\n",
    "\n",
    "User: Are we projected to meet the budget goals for Dairy for the current quarter for Zone 1042?\n",
    "AI: Call Forecast API with {\"product-name\" = \"Dairy\", \"quarter\" = \"current\", \"location-name\" = \"Zone 1042\"}\n",
    "\n",
    "User: Show me all items which had a cost change in the last three weeks for Grocery at Zone 26.\n",
    "AI: Call Cost API with {\"product-name\" = \"Grocery\", \"location-name\" = \"Zone 26\", week = \"last 4\", change = \"Y\"} \n",
    "\n",
    "User: I need sales data for Grocery for Q3 at Zone 69.\n",
    "AI:\"\"\"\n",
    "\n",
    "print(llm(prompt))\n"
   ]
  },
  {
   "cell_type": "markdown",
   "id": "d10e48c5",
   "metadata": {},
   "source": [
    "## \"What are the primary KVIs under MCK Internal for Zone 107?\""
   ]
  },
  {
   "cell_type": "code",
   "execution_count": 7,
   "id": "6fc64007",
   "metadata": {},
   "outputs": [
    {
     "name": "stdout",
     "output_type": "stream",
     "text": [
      "Call KVI API with \"product-name\" = \"MCK Internal\", \"location-name\" = \"Zone 107\", \"type\" = \"Primary\"\n"
     ]
    }
   ],
   "source": [
    "prompt = \"\"\"The following are exerpts from conversations with an AI\n",
    "assistant. The assistant takes user queries as input and outputs the \n",
    "corresponding API call by identifying the intent and entities in the \n",
    "query. The assistant should be trained using a set of examples, each \n",
    "containing a query and its corresponding API call. The intent should \n",
    "be mapped to the appropriate API call, while the entities should be \n",
    "extracted and used as parameters for the call.\n",
    "\n",
    "User: Show me sales and movement for Upper Respiratory for Q2 for Zone 1000?\n",
    "AI: Call Movement API with {\"product-name\" = \"Upper Respiratory\", \"quarter\" = 2, \"metrics\" = [\"sales\", \"movement\"], \"location-name\" = \"Zone 1000\"}\n",
    "\n",
    "User: Give me a list of of Primary KVIs under OTC Internal for Zone 42.\n",
    "AI: Call KVI API with {\"product-name\" = \"OTC Internal\", \"location-name\" = \"Zone 42\", type = \"Primary\"}\n",
    "\n",
    "User: What are the budget goals for Dairy for the current quarter for Zone 1042?\n",
    "AI: Budget API with {\"product-name\" = \"Dairy\", \"quarter\" = \"current\", \"location-name\" = \"Zone 1042\"}\n",
    "\n",
    "User: Are we projected to meet the budget goals for Dairy for the current quarter for Zone 1042?\n",
    "AI: Call Forecast API with {\"product-name\" = \"Dairy\", \"quarter\" = \"current\", \"location-name\" = \"Zone 1042\"}\n",
    "\n",
    "User: Show me all items which had a cost change in the last three weeks for Grocery at Zone 26.\n",
    "AI: Call Cost API with {\"product-name\" = \"Grocery\", \"location-name\" = \"Zone 26\", week = \"last 4\", change = \"Y\"} \n",
    "\n",
    "User: What are the primary KVIs under MCK Internal for Zone 107.\n",
    "AI:\"\"\"\n",
    "\n",
    "print(llm(prompt))\n"
   ]
  },
  {
   "cell_type": "markdown",
   "id": "469edf24",
   "metadata": {},
   "source": [
    "## \"What are the secondary KVIs under MCK Internal for Zone 33?\""
   ]
  },
  {
   "cell_type": "code",
   "execution_count": 8,
   "id": "774477e7",
   "metadata": {},
   "outputs": [
    {
     "name": "stdout",
     "output_type": "stream",
     "text": [
      "Call KVI API with \"product-name\" = \"MCK Internal\", \"location-name\" = \"Zone 33\", \"type\" = \"Secondary\"\n"
     ]
    }
   ],
   "source": [
    "prompt = \"\"\"The following are exerpts from conversations with an AI\n",
    "assistant. The assistant takes user queries as input and outputs the \n",
    "corresponding API call by identifying the intent and entities in the \n",
    "query. The assistant should be trained using a set of examples, each \n",
    "containing a query and its corresponding API call. The intent should \n",
    "be mapped to the appropriate API call, while the entities should be \n",
    "extracted and used as parameters for the call.\n",
    "\n",
    "User: Show me sales and movement for Upper Respiratory for Q2 for Zone 1000?\n",
    "AI: Call Movement API with {\"product-name\" = \"Upper Respiratory\", \"quarter\" = 2, \"metrics\" = [\"sales\", \"movement\"], \"location-name\" = \"Zone 1000\"}\n",
    "\n",
    "User: Give me a list of of Primary KVIs under OTC Internal for Zone 42.\n",
    "AI: Call KVI API with {\"product-name\" = \"OTC Internal\", \"location-name\" = \"Zone 42\", type = \"Primary\"}\n",
    "\n",
    "User: What are the budget goals for Dairy for the current quarter for Zone 1042?\n",
    "AI: Budget API with {\"product-name\" = \"Dairy\", \"quarter\" = \"current\", \"location-name\" = \"Zone 1042\"}\n",
    "\n",
    "User: Are we projected to meet the budget goals for Dairy for the current quarter for Zone 1042?\n",
    "AI: Call Forecast API with {\"product-name\" = \"Dairy\", \"quarter\" = \"current\", \"location-name\" = \"Zone 1042\"}\n",
    "\n",
    "User: Show me all items which had a cost change in the last three weeks for Grocery at Zone 26.\n",
    "AI: Call Cost API with {\"product-name\" = \"Grocery\", \"location-name\" = \"Zone 26\", week = \"last 4\", change = \"Y\"} \n",
    "\n",
    "User: What are the secondary KVIs under MCK Internal for Zone 33?\n",
    "AI:\"\"\"\n",
    "\n",
    "print(llm(prompt))\n"
   ]
  }
 ],
 "metadata": {
  "kernelspec": {
   "display_name": "env-llm",
   "language": "python",
   "name": "env-llm"
  },
  "language_info": {
   "codemirror_mode": {
    "name": "ipython",
    "version": 3
   },
   "file_extension": ".py",
   "mimetype": "text/x-python",
   "name": "python",
   "nbconvert_exporter": "python",
   "pygments_lexer": "ipython3",
   "version": "3.10.6"
  }
 },
 "nbformat": 4,
 "nbformat_minor": 5
}
